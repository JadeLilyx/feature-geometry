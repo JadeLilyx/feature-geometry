{
 "cells": [
  {
   "cell_type": "code",
   "execution_count": 1,
   "metadata": {},
   "outputs": [],
   "source": [
    "import os\n",
    "os.environ['HF_HOME'] = '/om/user/ericjm/.cache/huggingface'\n",
    "import argparse\n",
    "\n",
    "from tqdm.auto import tqdm\n",
    "import numpy as np\n",
    "import torch\n",
    "import torch.nn as nn\n",
    "\n",
    "from transformers import AutoModelForCausalLM, BitsAndBytesConfig, AutoTokenizer\n",
    "import datasets\n",
    "from huggingface_hub import hf_hub_download, notebook_login\n",
    "\n",
    "import matplotlib.pyplot as plt\n",
    "from matplotlib.font_manager import FontProperties"
   ]
  },
  {
   "cell_type": "code",
   "execution_count": 2,
   "metadata": {},
   "outputs": [
    {
     "data": {
      "text/plain": [
       "<torch.autograd.grad_mode.set_grad_enabled at 0x14af66f3d090>"
      ]
     },
     "execution_count": 2,
     "metadata": {},
     "output_type": "execute_result"
    }
   ],
   "source": [
    "# set grads to off\n",
    "torch.set_grad_enabled(False)"
   ]
  },
  {
   "cell_type": "code",
   "execution_count": 3,
   "metadata": {},
   "outputs": [],
   "source": [
    "class JumpReLUSAE(nn.Module):\n",
    "    def __init__(self, d_model, d_sae):\n",
    "        # Note that we initialise these to zeros because we're loading in pre-trained weights.\n",
    "        # If you want to train your own SAEs then we recommend using blah\n",
    "        super().__init__()\n",
    "        self.W_enc = nn.Parameter(torch.zeros(d_model, d_sae))\n",
    "        self.W_dec = nn.Parameter(torch.zeros(d_sae, d_model))\n",
    "        self.threshold = nn.Parameter(torch.zeros(d_sae))\n",
    "        self.b_enc = nn.Parameter(torch.zeros(d_sae))\n",
    "        self.b_dec = nn.Parameter(torch.zeros(d_model))\n",
    "\n",
    "    def encode(self, input_acts):\n",
    "        pre_acts = input_acts @ self.W_enc + self.b_enc\n",
    "        mask = (pre_acts > self.threshold)\n",
    "        acts = mask * torch.nn.functional.relu(pre_acts)\n",
    "        return acts\n",
    "\n",
    "    def decode(self, acts):\n",
    "        return acts @ self.W_dec + self.b_dec\n",
    "\n",
    "    def forward(self, acts):\n",
    "        acts = self.encode(acts)\n",
    "        recon = self.decode(acts)\n",
    "        return recon\n",
    "\n",
    "def gather_residual_activations(model, target_layer, inputs):\n",
    "    target_act = None\n",
    "    def gather_target_act_hook(mod, inputs, outputs):\n",
    "        nonlocal target_act # make sure we can modify the target_act from the outer scope\n",
    "        target_act = outputs[0]\n",
    "        return outputs\n",
    "    handle = model.model.layers[target_layer].register_forward_hook(gather_target_act_hook)\n",
    "    _ = model.forward(inputs)\n",
    "    handle.remove()\n",
    "    return target_act\n"
   ]
  },
  {
   "cell_type": "code",
   "execution_count": 4,
   "metadata": {},
   "outputs": [],
   "source": [
    "args = argparse.Namespace()\n",
    "args.model = \"google/gemma-2-2b\"\n",
    "args.layer = 12\n",
    "args.sae_name = \"layer_12/width_16k/average_l0_41\"\n",
    "args.k = 256\n",
    "args.n_docs = 50_000"
   ]
  },
  {
   "cell_type": "code",
   "execution_count": 5,
   "metadata": {},
   "outputs": [
    {
     "name": "stdout",
     "output_type": "stream",
     "text": [
      "Loading model...\n"
     ]
    },
    {
     "data": {
      "application/vnd.jupyter.widget-view+json": {
       "model_id": "73db2cde242c43f6a1a4388243609f4b",
       "version_major": 2,
       "version_minor": 0
      },
      "text/plain": [
       "Loading checkpoint shards:   0%|          | 0/3 [00:00<?, ?it/s]"
      ]
     },
     "metadata": {},
     "output_type": "display_data"
    }
   ],
   "source": [
    "DATASET = \"monology/pile-uncopyrighted\"\n",
    "\n",
    "device = torch.device(\"cuda\" if torch.cuda.is_available() else \"cpu\")\n",
    "dtype = torch.float32 \n",
    "device_map = {'': 0} if device.type == 'cuda' else None\n",
    "\n",
    "print(\"Loading model...\")\n",
    "model = AutoModelForCausalLM.from_pretrained(\n",
    "    args.model,\n",
    "    device_map=device_map,\n",
    "    torch_dtype=dtype,\n",
    "    low_cpu_mem_usage=True,\n",
    ")\n",
    "tokenizer =  AutoTokenizer.from_pretrained(args.model)"
   ]
  },
  {
   "cell_type": "code",
   "execution_count": 6,
   "metadata": {},
   "outputs": [
    {
     "name": "stdout",
     "output_type": "stream",
     "text": [
      "Loading SAE from disk...\n"
     ]
    },
    {
     "data": {
      "text/plain": [
       "JumpReLUSAE()"
      ]
     },
     "execution_count": 6,
     "metadata": {},
     "output_type": "execute_result"
    }
   ],
   "source": [
    "if args.model == \"google/gemma-2-2b\":\n",
    "    repo_id = \"google/gemma-scope-2b-pt-res\"\n",
    "elif args.model == \"google/gemma-2-9b\":\n",
    "    repo_id = \"google/gemma-scope-9b-pt-res\"\n",
    "path_to_params = hf_hub_download(\n",
    "    repo_id=repo_id,\n",
    "    filename=args.sae_name + \"/params.npz\",\n",
    "    force_download=False,\n",
    "    revision=\"0127b340ca980c3ee81df0275cea35f350f83488\",\n",
    ")\n",
    "\n",
    "print(\"Loading SAE from disk...\")\n",
    "params = np.load(path_to_params)\n",
    "pt_params = {k: torch.from_numpy(v).cuda() for k, v in params.items()}\n",
    "\n",
    "sae = JumpReLUSAE(params['W_enc'].shape[0], params['W_enc'].shape[1])\n",
    "sae.load_state_dict(pt_params)\n",
    "\n",
    "sae.to(device)\n",
    "sae.eval()"
   ]
  },
  {
   "cell_type": "code",
   "execution_count": 7,
   "metadata": {},
   "outputs": [
    {
     "name": "stdout",
     "output_type": "stream",
     "text": [
      "Loading dataset...\n"
     ]
    },
    {
     "data": {
      "application/vnd.jupyter.widget-view+json": {
       "model_id": "f987faedf8064060960e3cb87d596adb",
       "version_major": 2,
       "version_minor": 0
      },
      "text/plain": [
       "Resolving data files:   0%|          | 0/30 [00:00<?, ?it/s]"
      ]
     },
     "metadata": {},
     "output_type": "display_data"
    }
   ],
   "source": [
    "print(\"Loading dataset...\")\n",
    "dataset = datasets.load_dataset(DATASET, streaming=True, split=\"train\")"
   ]
  },
  {
   "cell_type": "code",
   "execution_count": 8,
   "metadata": {},
   "outputs": [],
   "source": [
    "W_dec_tsne = np.load(\"W_dec_tsne_gemma-2-2b_res_layer_12_width_16k_average_l0_41.npy\")"
   ]
  },
  {
   "cell_type": "code",
   "execution_count": 9,
   "metadata": {},
   "outputs": [],
   "source": [
    "# load up occurrence and co-occurrence data\n",
    "occurrence_npz = np.load(f\"../experiments/all-occurrences0/histograms/pile_{args.model.replace('/', '_')}_res_{args.sae_name.replace('/', '_')}_occurrences.npz\")\n",
    "occurrence_hist, occurrence_n_tokens = occurrence_npz['histogram'], occurrence_npz['n_tokens']"
   ]
  },
  {
   "cell_type": "code",
   "execution_count": 10,
   "metadata": {},
   "outputs": [],
   "source": [
    "n_clusterss = [2, 4, 8, 16, 32, 64, 128, 256, 512, 1024]\n",
    "clustering_results_phi = {}\n",
    "for n_clusters in n_clusterss:\n",
    "    clustering_results_phi[n_clusters] = np.load(f\"../experiments/all-occurrences0/lily/phi/layer_12_{n_clusters}.npy\")"
   ]
  },
  {
   "cell_type": "code",
   "execution_count": 11,
   "metadata": {},
   "outputs": [],
   "source": [
    "frequencies = occurrence_hist / occurrence_n_tokens\n",
    "frequencies[frequencies == 0] = 1e-7"
   ]
  },
  {
   "cell_type": "code",
   "execution_count": 12,
   "metadata": {},
   "outputs": [
    {
     "data": {
      "text/plain": [
       "(-57.96066398620606, 54.101273727416995, -47.08945198059082, 43.15426368713379)"
      ]
     },
     "execution_count": 12,
     "metadata": {},
     "output_type": "execute_result"
    },
    {
     "data": {
      "image/png": "[encoded data removed]",
      "text/plain": [
       "<Figure size 300x300 with 1 Axes>"
      ]
     },
     "metadata": {},
     "output_type": "display_data"
    }
   ],
   "source": [
    "colors = ['#FF4136', '#0074D9', '#FFDC00', '#2ECC40', '#F012BE', \n",
    "          '#7FDBFF', '#FF851B', '#01FF70', '#B10DC9', '#FF69B4']\n",
    "\n",
    "n_clusters = 2\n",
    "\n",
    "plt.figure(figsize=(3, 3))\n",
    "\n",
    "clusters = clustering_results_phi[n_clusters]\n",
    "cs = [colors[clusteri] for clusteri in clusters]\n",
    "cs = np.array(cs)\n",
    "n_splits = 20\n",
    "splits = np.array_split(np.random.permutation(len(clusters)), n_splits)\n",
    "for split in splits:\n",
    "    plt.scatter(W_dec_tsne[split, 0], W_dec_tsne[split, 1], \n",
    "        s=frequencies[split]*3e2,\n",
    "        color=cs[split], \n",
    "        alpha=0.2)\n",
    "plt.axis('off')\n",
    "\n",
    "# plt.tight_layout(pad=0.1)"
   ]
  },
  {
   "cell_type": "code",
   "execution_count": 13,
   "metadata": {},
   "outputs": [],
   "source": [
    "top = '''\n",
    "import hashlib\n",
    "import random\n",
    "\n",
    "# secp256k1 curve parameters\n",
    "p = 0xFFFFFFFFFFFFFFFFFFFFFFFFFFFFFFFFFFFFFFFFFFFFFFFFFFFFFFFEFFFFFC2F\n",
    "n = 0xFFFFFFFFFFFFFFFFFFFFFFFFFFFFFFFEBAAEDCE6AF48A03BBFD25E8CD0364141\n",
    "G = (0x79BE667EF9DCBBAC55A06295CE870B07029BFCDB2DCE28D959F2815B16F81798,\n",
    "     0x483ADA7726A3C4655DA4FBFC0E1108A8FD17B448A68554199C47D08FFB10D4B8)\n",
    "'''\n",
    "\n",
    "code = '''\n",
    "def mod_inv(a, n):\n",
    "    \"\"\"Modular multiplicative inverse\"\"\"\n",
    "    def egcd(a, b):\n",
    "        if a == 0:\n",
    "            return b, 0, 1\n",
    "        else:\n",
    "            g, y, x = egcd(b % a, a)\n",
    "            return g, x - (b // a) * y, y\n",
    "    \n",
    "    g, x, _ = egcd(a, n)\n",
    "    if g != 1:\n",
    "        raise Exception('Modular inverse does not exist')\n",
    "    else:\n",
    "        return x % n\n",
    "\n",
    "def point_add(P, Q):\n",
    "    \"\"\"Add two points on the curve\"\"\"\n",
    "    if P == Q:\n",
    "        return point_double(P)\n",
    "    if P is None:\n",
    "        return Q\n",
    "    if Q is None:\n",
    "        return P\n",
    "    x1, y1 = P\n",
    "    x2, y2 = Q\n",
    "    if x1 == x2 and y1 != y2:\n",
    "        return None\n",
    "    m = ((y2 - y1) * mod_inv(x2 - x1, p)) % p\n",
    "    x3 = (m * m - x1 - x2) % p\n",
    "    y3 = (m * (x1 - x3) - y1) % p\n",
    "    return (x3, y3)\n",
    "\n",
    "def point_double(P):\n",
    "    \"\"\"Double a point on the curve\"\"\"\n",
    "    if P is None:\n",
    "        return None\n",
    "    x, y = P\n",
    "    m = ((3 * x * x) * mod_inv(2 * y, p)) % p\n",
    "    x3 = (m * m - 2 * x) % p\n",
    "    y3 = (m * (x - x3) - y) % p\n",
    "    return (x3, y3)\n",
    "\n",
    "def scalar_mult(k, P):\n",
    "    \"\"\"Scalar multiplication of a point\"\"\"\n",
    "    R = None\n",
    "    for i in range(256):\n",
    "        if (k >> i) & 1:\n",
    "            R = point_add(R, P)\n",
    "        P = point_double(P)\n",
    "    return R\n",
    "\n",
    "def generate_keypair():\n",
    "    \"\"\"Generate a new public/private key pair\"\"\"\n",
    "    private_key = random.randrange(1, n)\n",
    "    public_key = scalar_mult(private_key, G)\n",
    "    return private_key, public_key\n",
    "\n",
    "def sign(message, private_key):\n",
    "    \"\"\"Sign a message using ECDSA\"\"\"\n",
    "    z = int(hashlib.sha256(message.encode('utf-8')).hexdigest(), 16)\n",
    "    r, s = 0, 0\n",
    "    while r == 0 or s == 0:\n",
    "        k = random.randrange(1, n)\n",
    "        x, y = scalar_mult(k, G)\n",
    "        r = x % n\n",
    "        s = (mod_inv(k, n) * (z + r * private_key)) % n\n",
    "    return (r, s)\n",
    "\n",
    "def verify(message, signature, public_key):\n",
    "    \"\"\"Verify an ECDSA signature\"\"\"\n",
    "    r, s = signature\n",
    "    z = int(hashlib.sha256(message.encode('utf-8')).hexdigest(), 16)\n",
    "    w = mod_inv(s, n)\n",
    "    u1 = (z * w) % n\n",
    "    u2 = (r * w) % n\n",
    "    x, y = point_add(scalar_mult(u1, G), scalar_mult(u2, public_key))\n",
    "    return r == x % n\n",
    "\n",
    "# Example usage\n",
    "private_key, public_key = generate_keypair()\n",
    "message = \"Hello, ECDSA!\"\n",
    "signature = sign(message, private_key)\n",
    "is_valid = verify(message, signature, public_key)\n",
    "\n",
    "print(f\"Message: {message}\")\n",
    "print(f\"Signature: {signature}\")\n",
    "print(f\"Is Valid: {is_valid}\")\n",
    "'''\n",
    "\n",
    "poetry = '''\n",
    "# The Essence of Poetry\n",
    "\n",
    "Verses dance upon the page,\n",
    "A rhythm born of silent rage,\n",
    "Or whispered love, or wonder's gaze—\n",
    "Each line a world, each word a maze.\n",
    "\n",
    "Metaphors bloom like spring's first flower,\n",
    "Similes grant comparisons power,\n",
    "Alliteration's playful tune\n",
    "Sings softly 'neath a paper moon.\n",
    "\n",
    "Stanzas build like ancient towers,\n",
    "Each level climbing higher, higher,\n",
    "Towards a truth both old and new,\n",
    "A perspective fresh, a vantage true.\n",
    "\n",
    "Sonnets speak of love's sweet ache,\n",
    "While haikus of moments partake,\n",
    "Free verse breaks all known chains,\n",
    "As epic poems weave heroic reigns.\n",
    "\n",
    "In meter's pulse, we find a beat,\n",
    "That marches time with steady feet,\n",
    "Iambs rise and trochees fall,\n",
    "Anapests answer dactyls' call.\n",
    "\n",
    "Rhyme schemes lock lines in embrace,\n",
    "ABAB in familiar grace,\n",
    "Or AABB's couplets tight,\n",
    "Or free rhyme's unpredictable flight.\n",
    "\n",
    "Enjambment leaps from line to line,\n",
    "Thoughts unbroken, intertwined,\n",
    "While caesuras pause mid-verse,\n",
    "For emphasis or to rehearse.\n",
    "\n",
    "Imagery paints with words alone,\n",
    "Vivid scenes from seeds thus sown,\n",
    "Synesthesia blends the senses,\n",
    "As metaphor breaks down fences.\n",
    "\n",
    "Poets wield this mighty art,\n",
    "To heal, to challenge, to impart\n",
    "The ineffable, the grand, the small—\n",
    "Poetry encompasses it all.\n",
    "\n",
    "From Shakespearean heights to Dickenson's quiet,\n",
    "From Whitman's yawp to Angelou's riot,\n",
    "Each voice unique, yet part of one\n",
    "Unending song since time begun.\n",
    "\n",
    "For poetry is more than words on page,\n",
    "It's heartbeats, tear drops, and lover's rage,\n",
    "It's laughter ringing, children at play,\n",
    "It's twilight fading at end of day.\n",
    "\n",
    "It's all we've lost and all we've found,\n",
    "It's silence deep and joyful sound,\n",
    "It's questions asked and answers sought,\n",
    "It's battles waged and lessons taught.\n",
    "\n",
    "In poetry, we find our kin,\n",
    "Across the miles, across the years,\n",
    "For in these lines of measured thought,\n",
    "We recognize our hopes and fears.\n",
    "\n",
    "So let the verses ever flow,\n",
    "Let metaphors and meters grow,\n",
    "For in poetry's eternal art,\n",
    "We find the essence of the human heart.\n",
    "'''"
   ]
  },
  {
   "cell_type": "code",
   "execution_count": 14,
   "metadata": {},
   "outputs": [],
   "source": [
    "video_args = argparse.Namespace()\n",
    "video_args.save_dir = \"twitter-video\"\n",
    "video_args.tokens = 128"
   ]
  },
  {
   "cell_type": "code",
   "execution_count": 30,
   "metadata": {},
   "outputs": [
    {
     "data": {
      "application/vnd.jupyter.widget-view+json": {
       "model_id": "549bbc1cfa6f44d3b219ec41ade34dd4",
       "version_major": 2,
       "version_minor": 0
      },
      "text/plain": [
       "  0%|          | 0/127 [00:00<?, ?it/s]"
      ]
     },
     "metadata": {},
     "output_type": "display_data"
    }
   ],
   "source": [
    "os.makedirs(video_args.save_dir, exist_ok=True)\n",
    "\n",
    "inputs_code = tokenizer.encode(\n",
    "    code, \n",
    "    return_tensors=\"pt\", \n",
    "    add_special_tokens=True,\n",
    "    max_length=video_args.tokens,\n",
    "    truncation=True\n",
    "    ).to(device)\n",
    "target_act = gather_residual_activations(model, args.layer, inputs_code)\n",
    "sae_acts = sae.encode(target_act)\n",
    "# convert to 0 or 1 (depending on whether activations are above 1)\n",
    "sae_acts = (sae_acts > 1) # shape (1, seq_len, d_sae)\n",
    "sae_acts_code = sae_acts[0, 1:].detach().cpu().numpy() # remove the BOS token\n",
    "text_tokens_code = tokenizer.batch_decode(inputs_code[0])[1:] # remove the BOS token\n",
    "\n",
    "inputs_poetry = tokenizer.encode(\n",
    "    poetry, \n",
    "    return_tensors=\"pt\", \n",
    "    add_special_tokens=True,\n",
    "    max_length=video_args.tokens,\n",
    "    truncation=True\n",
    "    ).to(device)\n",
    "target_act = gather_residual_activations(model, args.layer, inputs_poetry)\n",
    "sae_acts = sae.encode(target_act)\n",
    "# convert to 0 or 1 (depending on whether activations are above 1)\n",
    "sae_acts = (sae_acts > 1) # shape (1, seq_len, d_sae)\n",
    "sae_acts_poetry = sae_acts[0, 1:].detach().cpu().numpy() # remove the BOS token\n",
    "text_tokens_poetry = tokenizer.batch_decode(inputs_poetry[0])[1:] # remove the BOS token\n",
    "\n",
    "\n",
    "def format(token):\n",
    "    newline_tokens = ['\\n', '\\r', '\\r\\n', '\\v', '\\f']\n",
    "    if all([c in newline_tokens for c in token]):\n",
    "        # replace all instances with ⏎\n",
    "        return len(token) * \"⏎\"\n",
    "    # replace tabs with \\t\n",
    "    if all([c == '\\t' for c in token]):\n",
    "        return len(token) * \"⇥\"\n",
    "    else:\n",
    "        return token\n",
    "\n",
    "# create directory for the static images\n",
    "os.makedirs(os.path.join(video_args.save_dir, f\"both-v1\"), exist_ok=True)\n",
    "\n",
    "scales = [0.1, 0.5, 1.0, 1.0, 1.0, 1.0, 1.0, 1.0, 1.0, 1.0, 0.5, 0.1]\n",
    "\n",
    "# iterate through the figures now\n",
    "monospace_font = FontProperties(family='monospace')\n",
    "for i in tqdm(range(min(sae_acts_code.shape[0], sae_acts_poetry.shape[0]))):\n",
    "\n",
    "    for scalei, scale in enumerate(scales):\n",
    "\n",
    "        plt.figure(figsize=(10, 5))\n",
    "        colors = ['#FF4136', '#0074D9', '#FFDC00', '#2ECC40', '#F012BE', \n",
    "            '#7FDBFF', '#FF851B', '#01FF70', '#B10DC9', '#FF69B4']\n",
    "        n_clusters = 2\n",
    "        clusters = clustering_results_phi[n_clusters]\n",
    "        cs = [colors[clusteri] for clusteri in clusters]\n",
    "        cs = np.array(cs)\n",
    "\n",
    "        plt.subplot(1, 2, 1)\n",
    "        dead_indices = np.where(~sae_acts_code[i])[0]\n",
    "        firing_indices = np.where(sae_acts_code[i])[0]\n",
    "        plt.scatter(\n",
    "            W_dec_tsne[dead_indices, 0], W_dec_tsne[dead_indices, 1],\n",
    "            s=frequencies[dead_indices]*1e3,\n",
    "            color=cs[dead_indices],\n",
    "            alpha=0.2\n",
    "        )\n",
    "        plt.scatter(\n",
    "            W_dec_tsne[firing_indices, 0], W_dec_tsne[firing_indices, 1],\n",
    "            # s=np.maximum(frequencies[firing_indices]*2e3, 30),\n",
    "            s=80 * scale,\n",
    "            color='yellow',\n",
    "            alpha=1.0,\n",
    "            # add black border around point\n",
    "            edgecolors='black',\n",
    "            linewidth=0.5    \n",
    "        )\n",
    "        # Prepare display tokens\n",
    "        display_tokens = []\n",
    "        for j in range(i, max(-1, i-30), -1):\n",
    "            if sum(len(t) for t in display_tokens) + len(text_tokens_code[j]) < 20:\n",
    "                display_tokens.insert(0, format(text_tokens_code[j]))\n",
    "        # Display tokens using annotate\n",
    "        right_edge = 0.95  # Right alignment position\n",
    "        y_pos = 0.98  # Vertical position for the text\n",
    "        # get the current axis\n",
    "        ax = plt.gca()\n",
    "        # Start with the rightmost (last) token\n",
    "        text = ax.text(right_edge, y_pos, display_tokens[-1], \n",
    "                        # fontproperties=monospace_font, \n",
    "                        color='darkgreen',\n",
    "                        fontsize=14,\n",
    "                        transform=ax.transAxes, \n",
    "                        ha='right', va='top')\n",
    "        # Add the rest of the tokens from right to left\n",
    "        for token in reversed(display_tokens[:-1]):\n",
    "            text = ax.annotate(\n",
    "                token, \n",
    "                xycoords=text, \n",
    "                xy=(0, 0.5),  # Attach to the left middle of the previous text\n",
    "                xytext=(-5, 0),  # 5 points to the left\n",
    "                textcoords='offset points',\n",
    "                va='center', ha='right',\n",
    "                # fontproperties=monospace_font,\n",
    "                fontsize=14,\n",
    "                color='black'\n",
    "            )\n",
    "        xmin, xmax = W_dec_tsne[:, 0].min(), W_dec_tsne[:, 0].max()\n",
    "        ymin, ymax = W_dec_tsne[:, 1].min(), W_dec_tsne[:, 1].max()\n",
    "        plt.xlim(xmin-6, xmax+6)\n",
    "        plt.ylim(ymin-4, ymax+8)\n",
    "        plt.title(\"Code sample:\", fontsize=14)\n",
    "        plt.axis('off')\n",
    "\n",
    "\n",
    "        plt.subplot(1, 2, 2)\n",
    "        dead_indices = np.where(~sae_acts_poetry[i])[0]\n",
    "        firing_indices = np.where(sae_acts_poetry[i])[0]\n",
    "        plt.scatter(\n",
    "            W_dec_tsne[dead_indices, 0], W_dec_tsne[dead_indices, 1],\n",
    "            s=frequencies[dead_indices]*1e3,\n",
    "            color=cs[dead_indices],\n",
    "            alpha=0.2\n",
    "        )\n",
    "        plt.scatter(\n",
    "            W_dec_tsne[firing_indices, 0], W_dec_tsne[firing_indices, 1],\n",
    "            # s=np.maximum(frequencies[firing_indices]*2e3, 30),\n",
    "            s=80 * scale,\n",
    "            color='yellow',\n",
    "            alpha=1.0,\n",
    "            # add black border around point\n",
    "            edgecolors='black',\n",
    "            linewidth=0.5    \n",
    "        )\n",
    "        # Prepare display tokens\n",
    "        display_tokens = []\n",
    "        for j in range(i, max(-1, i-30), -1):\n",
    "            if sum(len(t) for t in display_tokens) + len(text_tokens_poetry[j]) < 20:\n",
    "                display_tokens.insert(0, format(text_tokens_poetry[j]))\n",
    "        # Display tokens using annotate\n",
    "        right_edge = 0.95  # Right alignment position\n",
    "        y_pos = 0.98  # Vertical position for the text\n",
    "        # get the current axis\n",
    "        ax = plt.gca()\n",
    "        # Start with the rightmost (last) token\n",
    "        text = ax.text(right_edge, y_pos, display_tokens[-1], \n",
    "                        fontproperties=monospace_font, \n",
    "                        color='darkgreen',\n",
    "                        fontsize=14,\n",
    "                        transform=ax.transAxes, \n",
    "                        ha='right', va='top')\n",
    "        # Add the rest of the tokens from right to left\n",
    "        for token in reversed(display_tokens[:-1]):\n",
    "            text = ax.annotate(\n",
    "                token, \n",
    "                xycoords=text, \n",
    "                xy=(0, 0.5),  # Attach to the left middle of the previous text\n",
    "                xytext=(-5, 0),  # 5 points to the left\n",
    "                textcoords='offset points',\n",
    "                va='center', ha='right',\n",
    "                fontproperties=monospace_font,\n",
    "                fontsize=14,\n",
    "                color='black'\n",
    "            )\n",
    "        xmin, xmax = W_dec_tsne[:, 0].min(), W_dec_tsne[:, 0].max()\n",
    "        ymin, ymax = W_dec_tsne[:, 1].min(), W_dec_tsne[:, 1].max()\n",
    "        # plt.xlim(xmin-3, xmax+3)\n",
    "        # plt.ylim(ymin-2, ymax+5.0)\n",
    "        plt.xlim(xmin-6, xmax+6)\n",
    "        plt.ylim(ymin-4, ymax+8)\n",
    "        plt.axis('off')\n",
    "        plt.title(\"Poetry sample:\", fontsize=14)\n",
    "\n",
    "        dummy_scatter1 = plt.scatter([], [], c='#FF4136', s=100, alpha=0.4, label='English text lobe')\n",
    "        dummy_scatter2 = plt.scatter([], [], c='#0074D9', s=100, alpha=0.4, label='Math & code lobe')\n",
    "        dummy_scatter3 = plt.scatter([], [], c='yellow', s=100, alpha=1.0, label='Active feature', edgecolors='black', linewidth=0.5)\n",
    "        fig = plt.gcf()\n",
    "        fig.legend(loc='center', bbox_to_anchor=(0.5, 0.1), ncol=3, framealpha=1.0)\n",
    "\n",
    "        plt.savefig(os.path.join(video_args.save_dir, f\"both-v1\", f\"frame_{int(len(scales)*i + scalei)}.png\"), dpi=200, bbox_inches='tight')\n",
    "        # plt.savefig(os.path.join(video_args.save_dir, f\"both-v0\", f\"frame_test{scalei}.png\"), dpi=200, bbox_inches='tight')\n",
    "\n",
    "        plt.close()\n"
   ]
  },
  {
   "cell_type": "code",
   "execution_count": null,
   "metadata": {},
   "outputs": [],
   "source": []
  },
  {
   "cell_type": "code",
   "execution_count": null,
   "metadata": {},
   "outputs": [],
   "source": []
  },
  {
   "cell_type": "code",
   "execution_count": null,
   "metadata": {},
   "outputs": [],
   "source": []
  },
  {
   "cell_type": "code",
   "execution_count": null,
   "metadata": {},
   "outputs": [],
   "source": []
  },
  {
   "cell_type": "code",
   "execution_count": null,
   "metadata": {},
   "outputs": [],
   "source": [
    "\n",
    "\n",
    "if __name__ == \"__main__\":\n",
    "    parser = argparse.ArgumentParser()\n",
    "    # add a choice of the model, either google/gemma-2-2b or google/gemma-2-9b\n",
    "    parser.add_argument(\"--model\", type=str, help=\"The model to use for feature extraction.\", default=\"google/gemma-2-9b\", choices=[\"google/gemma-2-2b\", \"google/gemma-2-9b\"])\n",
    "    parser.add_argument(\"--dataset\", type=str, help=\"Path to the corpus to analyze.\",\n",
    "        default=\"togethercomputer/RedPajama-Data-V2\")\n",
    "    parser.add_argument(\"--layer\", type=int, help=\"The layer the SAE reconstructs.\", default=20)\n",
    "    parser.add_argument(\"--sae_name\", type=str, help=\"The name of the SAE to use.\", default=\"layer_20/width_131k/average_l0_19\")\n",
    "    parser.add_argument(\"--doc\", type=int, default=0,help=\"The document index to process\")\n",
    "    parser.add_argument(\"--tokens\", type=int, help=\"The number of tokens to process\", default=128)\n",
    "    parser.add_argument(\"--save_dir\", type=str, help=\"The directory to save the histogram to.\", default=\"videos\")\n",
    "    args = parser.parse_args()\n",
    "    main(args)\n",
    "\n"
   ]
  },
  {
   "cell_type": "code",
   "execution_count": null,
   "metadata": {},
   "outputs": [],
   "source": []
  },
  {
   "cell_type": "code",
   "execution_count": null,
   "metadata": {},
   "outputs": [],
   "source": []
  },
  {
   "cell_type": "code",
   "execution_count": null,
   "metadata": {},
   "outputs": [],
   "source": []
  },
  {
   "cell_type": "code",
   "execution_count": null,
   "metadata": {},
   "outputs": [],
   "source": []
  },
  {
   "cell_type": "code",
   "execution_count": null,
   "metadata": {},
   "outputs": [],
   "source": []
  },
  {
   "cell_type": "code",
   "execution_count": null,
   "metadata": {},
   "outputs": [],
   "source": []
  },
  {
   "cell_type": "code",
   "execution_count": null,
   "metadata": {},
   "outputs": [],
   "source": []
  }
 ],
 "metadata": {
  "kernelspec": {
   "display_name": "features",
   "language": "python",
   "name": "python3"
  },
  "language_info": {
   "codemirror_mode": {
    "name": "ipython",
    "version": 3
   },
   "file_extension": ".py",
   "mimetype": "text/x-python",
   "name": "python",
   "nbconvert_exporter": "python",
   "pygments_lexer": "ipython3",
   "version": "3.11.7"
  }
 },
 "nbformat": 4,
 "nbformat_minor": 2
}
